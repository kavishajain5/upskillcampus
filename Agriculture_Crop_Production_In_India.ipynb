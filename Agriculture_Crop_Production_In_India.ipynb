{
  "nbformat": 4,
  "nbformat_minor": 0,
  "metadata": {
    "colab": {
      "provenance": []
    },
    "kernelspec": {
      "name": "python3",
      "display_name": "Python 3"
    },
    "language_info": {
      "name": "python"
    }
  },
  "cells": [
    {
      "cell_type": "code",
      "execution_count": 2,
      "metadata": {
        "id": "Eqb7Lb_bl_pQ"
      },
      "outputs": [],
      "source": [
        "import pandas as pd\n",
        "import seaborn as sns\n",
        "import numpy as np\n",
        "import matplotlib.pyplot as plt\n",
        "%matplotlib inline\n",
        "import plotly.express as px\n",
        "import plotly.graph_objects as go\n",
        "\n",
        "plt.rcParams['figure.figsize'] = (12,6)\n",
        "plt.style.use('fivethirtyeight')\n"
      ]
    },
    {
      "cell_type": "code",
      "source": [
        "#Load the data using pandas read functions\n",
        "data1 = pd.read_csv('/content/datafile (1).csv')\n",
        "data2 = pd.read_csv('/content/datafile (2).csv')\n",
        "data3 = pd.read_csv('/content/datafile (3).csv')\n",
        "datafile = pd.read_csv('/content/datafile.csv')\n",
        "produce = pd.read_csv('/content/produce.csv')\n"
      ],
      "metadata": {
        "id": "HkuNsAbgmJFS"
      },
      "execution_count": null,
      "outputs": []
    },
    {
      "cell_type": "code",
      "source": [
        "data1 = pd.read_csv('/content/datafile (1).csv')\n",
        "\n",
        "data1 = data1.rename(columns={\n",
        "    'Crop': 'Crop',\n",
        "    'State': 'State',\n",
        "    'Cost of Cultivation (`/Hectare) A2+FL': 'Cost_A2_FL',\n",
        "    'Cost of Cultivation (`/Hectare) C2': 'Cost_C2',\n",
        "    'Cost of Production (`/Quintal) C2': 'Cost_Production',\n",
        "    'Yield (Quintal/ Hectare) ': 'Yield'\n",
        "})\n",
        "\n",
        "data1.head().style.set_properties(**{'background-color':'royalblue','color':'black','border-color':'#8b8c8c'})\n"
      ],
      "metadata": {
        "id": "FNoh29zFmTTC"
      },
      "execution_count": null,
      "outputs": []
    },
    {
      "cell_type": "code",
      "source": [
        "#check the shape of the data\n",
        "print(f' The dataset contains {data1.shape[1]} columns and {data1.shape[0]} rows')"
      ],
      "metadata": {
        "id": "ccDDPc02mZzn"
      },
      "execution_count": null,
      "outputs": []
    },
    {
      "cell_type": "code",
      "source": [
        "# Print the column names\n",
        "print(data1.columns)"
      ],
      "metadata": {
        "id": "K20sRSzLmcRO"
      },
      "execution_count": null,
      "outputs": []
    },
    {
      "cell_type": "code",
      "source": [
        "data1.info()"
      ],
      "metadata": {
        "id": "ZLqhOetkmiD4"
      },
      "execution_count": null,
      "outputs": []
    },
    {
      "cell_type": "code",
      "source": [
        "data1.isnull().sum().sum()"
      ],
      "metadata": {
        "id": "1gK-aBvWmklI"
      },
      "execution_count": null,
      "outputs": []
    },
    {
      "cell_type": "code",
      "source": [
        "#checking the null values in the data\n",
        "data1.isna().sum()/len(data1)*100\n"
      ],
      "metadata": {
        "id": "6bgT4MMumlRp"
      },
      "execution_count": null,
      "outputs": []
    },
    {
      "cell_type": "code",
      "source": [
        "data1.fillna(0, inplace=True)"
      ],
      "metadata": {
        "id": "iLfvwEemmovO"
      },
      "execution_count": null,
      "outputs": []
    },
    {
      "cell_type": "code",
      "source": [
        "#Lets check the duplicate values in the data\n",
        "print('The duplicate values in the data is', data1.duplicated().sum())"
      ],
      "metadata": {
        "id": "kWiS_DBhms2W"
      },
      "execution_count": null,
      "outputs": []
    },
    {
      "cell_type": "code",
      "source": [
        "#Check the statistics in the data1\n",
        "data1.describe().style.background_gradient(cmap='viridis')"
      ],
      "metadata": {
        "id": "C2FkdieUmzYB"
      },
      "execution_count": null,
      "outputs": []
    },
    {
      "cell_type": "code",
      "source": [
        "import plotly.express as px\n",
        "\n",
        "# Color palette for the histograms\n",
        "colors = ['#1f77b4', '#ff7f0e', '#2ca02c', '#d62728', '#9467bd']\n",
        "\n",
        "# EDA - Histogram\n",
        "column_names = ['Cost_A2_FL', 'Cost_C2', 'Cost_Production', 'Yield']\n",
        "\n",
        "for i, column in enumerate(column_names):\n",
        "    fig = px.histogram(data1, x=column, nbins=10, marginal='box',\n",
        "                       labels={column: column})\n",
        "    fig.update_layout(title=f'Histogram of {column}', xaxis_title=column, yaxis_title='Count',\n",
        "                      plot_bgcolor='rgba(0,0,0,0)', paper_bgcolor='rgba(0,0,0,0)',\n",
        "                      font=dict(size=12))\n",
        "    fig.update_traces(marker_color=colors[i % len(colors)])\n",
        "    fig.show()\n"
      ],
      "metadata": {
        "id": "rw6HdaaXm6FK"
      },
      "execution_count": null,
      "outputs": []
    },
    {
      "cell_type": "code",
      "source": [
        "import plotly.express as px\n",
        "\n",
        "# Color palette for the histograms\n",
        "colors = ['#1f77b4', '#ff7f0e', '#2ca02c', '#d62728', '#9467bd']\n",
        "\n",
        "# EDA - Histogram\n",
        "column_names = ['Cost_A2_FL', 'Cost_C2', 'Cost_Production', 'Yield']\n",
        "\n",
        "for i, column in enumerate(column_names):\n",
        "    fig = px.histogram(data1, x=column, nbins=10, marginal='box',\n",
        "                       labels={column: column})\n",
        "    fig.update_layout(title=f'Histogram of {column}', xaxis_title=column, yaxis_title='Count',\n",
        "                      plot_bgcolor='rgba(0,0,0,0)', paper_bgcolor='rgba(0,0,0,0)',\n",
        "                      font=dict(size=12))\n",
        "    fig.update_traces(marker_color=colors[i % len(colors)])\n",
        "    fig.show()\n"
      ],
      "metadata": {
        "id": "D6L8enFknHf9"
      },
      "execution_count": null,
      "outputs": []
    },
    {
      "cell_type": "code",
      "source": [
        "import seaborn as sns\n",
        "import matplotlib.pyplot as plt\n",
        "\n",
        "sns.set_theme(style=\"whitegrid\")\n",
        "\n",
        "# Plotting 'Cost_A2_FL'\n",
        "plt.figure(figsize=(8, 6))\n",
        "sns.displot(data=data1, x='Cost_A2_FL', hue=\"Crop\", kind=\"kde\", height=4, multiple=\"fill\", clip=(0, None), palette=\"ch:rot=-.75,hue=1,light=.75\")\n",
        "plt.title('Kernel Density Estimation of Cost_A2_FL by Crop')\n",
        "plt.xlabel('Cost_A2_FL')\n",
        "plt.ylabel('Density')\n",
        "plt.show()\n",
        "\n",
        "# Plotting 'Cost_C2'\n",
        "plt.figure(figsize=(8, 6))\n",
        "sns.displot(data=data1, x='Cost_C2', hue=\"Crop\", kind=\"kde\", height=4, multiple=\"fill\", clip=(0, None), palette=\"ch:rot=-.75,hue=1,light=.75\")\n",
        "plt.title('Kernel Density Estimation of Cost_C2 by Crop')\n",
        "plt.xlabel('Cost_C2')\n",
        "plt.ylabel('Density')\n",
        "plt.show()\n",
        "\n",
        "# Plotting 'Cost_Production'\n",
        "plt.figure(figsize=(8, 6))\n",
        "sns.displot(data=data1, x='Cost_Production', hue=\"Crop\", kind=\"kde\", height=4, multiple=\"fill\", clip=(0, None), palette=\"ch:rot=-.75,hue=1,light=.75\")\n",
        "plt.title('Kernel Density Estimation of Cost_Production by Crop')\n",
        "plt.xlabel('Cost_Production')\n",
        "plt.ylabel('Density')\n",
        "plt.show()\n",
        "\n",
        "# Plotting 'Yield'\n",
        "plt.figure(figsize=(8, 6))\n",
        "sns.displot(data=data1, x='Yield', hue=\"Crop\", kind=\"kde\", height=4, multiple=\"fill\", clip=(0, None), palette=\"ch:rot=-.75,hue=1,light=.75\")\n",
        "plt.title('Kernel Density Estimation of Yield by Crop')\n",
        "plt.xlabel('Yield')\n",
        "plt.ylabel('Density')\n",
        "plt.show()\n"
      ],
      "metadata": {
        "id": "KBz9-GTTnMkz"
      },
      "execution_count": null,
      "outputs": []
    },
    {
      "cell_type": "code",
      "source": [
        "#check the correlation map\n",
        "sns.heatmap(data1.corr(),annot=True,cmap='gnuplot2_r',fmt='.2f',linewidths=1)"
      ],
      "metadata": {
        "id": "xEX307ConQBg"
      },
      "execution_count": null,
      "outputs": []
    },
    {
      "cell_type": "code",
      "source": [
        "# What are the unique states in the data?\n",
        "states_in_data = data1['State'].unique()\n",
        "print('\\n The states in the data:', states_in_data)\n",
        "\n",
        "dominant_state = data1['State'].value_counts().idxmax()\n",
        "print('\\n The Dominant state:', dominant_state)\n",
        "\n",
        "less_dominant_state = data1['State'].value_counts().idxmin()\n",
        "print('\\n The Less Dominant State:', less_dominant_state)\n",
        "\n",
        "max_and_min_yield = (data1['Yield'].min(), data1['Yield'].max())\n",
        "print('\\nThe Minimum yield range:', max_and_min_yield)\n",
        "\n",
        "most_demand_crop = data1['Crop'].value_counts().idxmax()\n",
        "print('\\nThe most demanded crop in the data:', most_demand_crop)\n",
        "\n",
        "less_demand_crop = data1['Crop'].value_counts().idxmax()\n",
        "print('\\nThe less demanded crop in the data:', less_demand_crop)\n"
      ],
      "metadata": {
        "id": "3gswcjgpnQvI"
      },
      "execution_count": null,
      "outputs": []
    },
    {
      "cell_type": "code",
      "source": [
        "# Find the Average yield of the top 10 yield in the data\n",
        "avg_yield = data1.groupby('Yield')['Cost_A2_FL','Cost_C2','Cost_Production'].mean()\n",
        "avg_yield.head(10).style.background_gradient(cmap='tab20b')\n"
      ],
      "metadata": {
        "id": "h8s-iFORnTtT"
      },
      "execution_count": null,
      "outputs": []
    },
    {
      "cell_type": "code",
      "source": [
        "import matplotlib.pyplot as plt\n",
        "\n",
        "# What are the unique states in the data\n",
        "states_in_data = data1['State'].unique()\n",
        "\n",
        "# Calculate the counts of each unique state\n",
        "state_counts = data1['State'].value_counts()\n",
        "\n",
        "# Plot a pie chart for the state counts\n",
        "plt.figure(figsize=(8, 6))\n",
        "plt.pie(state_counts, labels=states_in_data, autopct='%1.1f%%', startangle=90)\n",
        "plt.title('Distribution of States in the Data')\n",
        "plt.axis('equal')\n",
        "plt.show()\n"
      ],
      "metadata": {
        "id": "s6NyURj7naZx"
      },
      "execution_count": null,
      "outputs": []
    },
    {
      "cell_type": "code",
      "source": [
        "#create a pie chart to visualize the top 10 crop in the data\n",
        "color = ['#1f77b4', '#ff7f0e', '#2ca02c', '#d62728', '#9467bd',\n",
        "          '#8c564b', '#e377c2', '#7f7f7f', '#bcbd22', '#17becf']\n",
        "\n",
        "label = ['ARHAR', 'COTTON', 'GRAM', 'GROUNDNUT', 'MAIZE', 'MOONG', 'PADDY', 'RAPESEED AND MUSTARD', 'SUGARCANE', 'WHEAT']\n",
        "\n",
        "data1['Crop'].value_counts().sort_values(ascending=False).head(10)\\\n",
        ".plot(kind = 'pie',labels=label, colors=color,\n",
        "      autopct ='%1.2f%%',\n",
        "      shadow=True)\n",
        "plt.title('Top 10 Crop in the Data')\n",
        "plt.show()"
      ],
      "metadata": {
        "id": "u2LzzTtJnjVr"
      },
      "execution_count": null,
      "outputs": []
    },
    {
      "cell_type": "code",
      "source": [
        "# Get the list of unique state\n",
        "state_list = data1['State'].unique()\n",
        "\n",
        "# Print the state list\n",
        "print(\"List of State:\")\n",
        "for state in state_list:\n",
        "    print(state)"
      ],
      "metadata": {
        "id": "E6whUQZQnkUQ"
      },
      "execution_count": null,
      "outputs": []
    },
    {
      "cell_type": "code",
      "source": [
        "#create a pie chart to visualization arhar produced by the states\n",
        "arhar = data1[data1['Crop']=='ARHAR']\n",
        "label = ['Uttar Pradesh','Karnataka','Gujarat','Andhra Pradesh',\n",
        "         'Maharashtra','Punjab','Haryana','Rajasthan','Madhya Pradesh',\n",
        "         'Tamil Nadu','Bihar','Orissa','West Bengal']\n",
        "arhar['State'].value_counts().head(10).sort_values(ascending=False)\\\n",
        "    .plot(kind='pie', labels=label,\n",
        "          colors=['#1f77b4', '#ff7f0e', '#2ca02c', '#d62728', '#9467bd',\n",
        "          '#8c564b', '#e377c2', '#7f7f7f', '#bcbd22', '#17becf'],\n",
        "          autopct='%1.2f%%',\n",
        "          shadow=True)\n",
        "plt.title(\"Top 5 States Producing Arhar\")\n",
        "plt.show()\n"
      ],
      "metadata": {
        "id": "deAI0870nq8v"
      },
      "execution_count": null,
      "outputs": []
    },
    {
      "cell_type": "code",
      "source": [
        "#create a pie chart to visualization wheat produced by the states\n",
        "wheat = data1[data1['Crop']=='WHEAT']\n",
        "label = ['Uttar Pradesh','Karnataka','Gujarat','Andhra Pradesh',\n",
        "         'Maharashtra','Punjab','Haryana','Rajasthan','Madhya Pradesh',\n",
        "         'Tamil Nadu','Bihar','Orissa','West Bengal']\n",
        "arhar['State'].value_counts().head(10).sort_values(ascending=False)\\\n",
        "    .plot(kind='pie', labels=label,\n",
        "          colors=['#1f77b4', '#ff7f0e', '#2ca02c', '#d62728', '#9467bd',\n",
        "          '#8c564b', '#e377c2', '#7f7f7f', '#bcbd22', '#17becf'],\n",
        "          autopct='%1.2f%%',\n",
        "          shadow=True)\n",
        "plt.title(\"Top 5 States Producing Wheat\")\n",
        "plt.show()\n"
      ],
      "metadata": {
        "id": "bU3UlLcAnrZC"
      },
      "execution_count": null,
      "outputs": []
    },
    {
      "cell_type": "code",
      "source": [
        "# Find the Top 10 Minimum and Maximum values of the crop\n",
        "crop_stats = data1.groupby('Crop')[['Cost_A2_FL', 'Cost_C2', 'Cost_Production']].agg(['min', 'max'])\n",
        "crop_stats.head(10).style.background_gradient(cmap='nipy_spectral_r')\n"
      ],
      "metadata": {
        "id": "qGKgu9svnumT"
      },
      "execution_count": null,
      "outputs": []
    },
    {
      "cell_type": "code",
      "source": [
        "import matplotlib.pyplot as plt\n",
        "\n",
        "# Data\n",
        "crop_data = {\n",
        "    'Crop': ['ARHAR', 'COTTON', 'GRAM', 'GROUNDNUT', 'MAIZE', 'MOONG', 'PADDY', 'RAPESEED AND MUSTARD', 'SUGARCANE', 'WHEAT'],\n",
        "    'min_Cost_A2_FL': [9794.05, 23711.44, 8552.69, 13647.1, 13513.92, 5483.54, 17022.0, 8686.43, 24538.32, 12464.4],\n",
        "    'max_Cost_A2_FL': [17130.55, 29918.97, 14421.98, 26078.66, 25687.09, 10780.76, 29664.84, 14715.27, 66335.06, 19119.08],\n",
        "    'min_Cost_C2': [16528.68, 33116.82, 12610.85, 17314.2, 19810.29, 7868.64, 25909.05, 17705.93, 45239.51, 22489.75],\n",
        "    'max_Cost_C2': [25270.26, 50828.83, 26762.09, 32683.46, 37801.85, 15371.45, 46450.2, 27507.54, 91442.63, 35423.48],\n",
        "    'min_Cost_Production': [1898.3, 2003.76, 1551.94, 1918.92, 404.43, 2068.67, 669.86, 1251.12, 85.79, 683.58],\n",
        "    'max_Cost_Production': [3670.54, 2539.47, 2277.68, 3484.01, 1387.36, 5777.48, 789.9, 1610.4, 119.72, 810.25]\n",
        "}\n",
        "\n",
        "# Convert data to a DataFrame\n",
        "crop_df = pd.DataFrame(crop_data)\n",
        "\n",
        "# Set Crop column as the index\n",
        "crop_df.set_index('Crop', inplace=True)\n",
        "\n",
        "# Plotting\n",
        "fig, ax = plt.subplots(figsize=(8, 6))\n",
        "colors = ['#ff9999', '#66b3ff', '#99ff99', '#ffcc99', '#c2c2f0', '#ffb3e6', '#c2c2c2', '#b3e6cc', '#e6b3cc', '#e6e6cc']\n",
        "\n",
        "# Plotting pie chart for min_Cost_A2_FL= Cost of Cultivation (`/Hectare) A2+FL\n",
        "ax.pie(crop_df['min_Cost_A2_FL'], labels=crop_df.index, autopct='%1.1f%%', colors=colors)\n",
        "ax.set_title('Minimum Cost of Cultivation (`/Hectare) A2+FL by Crop')\n",
        "\n",
        "plt.show()\n"
      ],
      "metadata": {
        "id": "WoI9EbxbnyOJ"
      },
      "execution_count": null,
      "outputs": []
    },
    {
      "cell_type": "code",
      "source": [
        "# Plotting\n",
        "fig, ax = plt.subplots(figsize=(8, 6))\n",
        "colors = ['#ff9999', '#66b3ff', '#99ff99', '#ffcc99', '#c2c2f0', '#ffb3e6', '#c2c2c2', '#b3e6cc', '#e6b3cc', '#e6e6cc']\n",
        "\n",
        "# Plotting pie chart for max_Cost_A2_FL= Cost of Cultivation (`/Hectare) A2+FL\n",
        "ax.pie(crop_df['max_Cost_A2_FL'], labels=crop_df.index, autopct='%1.1f%%', colors=colors)\n",
        "ax.set_title('Maximum Cost of Cultivation (`/Hectare) A2+FL by Crop')\n",
        "\n",
        "plt.show()\n"
      ],
      "metadata": {
        "id": "GvXAO8Wun2iS"
      },
      "execution_count": null,
      "outputs": []
    },
    {
      "cell_type": "code",
      "source": [
        "# Plotting\n",
        "fig, ax = plt.subplots(figsize=(8, 6))\n",
        "colors = ['#ff9999', '#66b3ff', '#99ff99', '#ffcc99', '#c2c2f0', '#ffb3e6', '#c2c2c2', '#b3e6cc', '#e6b3cc', '#e6e6cc']\n",
        "\n",
        "# Plotting pie chart for max_Cost_A2_FL= Cost of Cultivation (`/Hectare) A2+FL\n",
        "ax.pie(crop_df['max_Cost_A2_FL'], labels=crop_df.index, autopct='%1.1f%%', colors=colors)\n",
        "ax.set_title('Maximum Cost of Cultivation (`/Hectare) A2+FL by Crop')\n",
        "\n",
        "plt.show()\n"
      ],
      "metadata": {
        "id": "EPiiab5Cn5kD"
      },
      "execution_count": null,
      "outputs": []
    },
    {
      "cell_type": "code",
      "source": [
        "# Plotting\n",
        "fig, ax = plt.subplots(figsize=(8, 6))\n",
        "colors = ['#ff9999', '#66b3ff', '#99ff99', '#ffcc99', '#c2c2f0', '#ffb3e6', '#c2c2c2', '#b3e6cc', '#e6b3cc', '#e6e6cc']\n",
        "\n",
        "# Plotting pie chart for max_Cost_A2_FL= Cost of Cultivation (`/Hectare) A2+FL\n",
        "ax.pie(crop_df['max_Cost_A2_FL'], labels=crop_df.index, autopct='%1.1f%%', colors=colors)\n",
        "ax.set_title('Maximum Cost of Cultivation (`/Hectare) A2+FL by Crop')\n",
        "\n",
        "plt.show()\n"
      ],
      "metadata": {
        "id": "Y61ox6ENn-1i"
      },
      "execution_count": null,
      "outputs": []
    },
    {
      "cell_type": "code",
      "source": [
        "import plotly.graph_objects as go\n",
        "\n",
        "# Create the sunburst chart\n",
        "fig = go.Figure(go.Sunburst(\n",
        "    labels=crop_df.index,\n",
        "    parents=[''] * len(crop_df.index),\n",
        "    values=crop_df['min_Cost_Production'],\n",
        "    branchvalues='total',\n",
        "    hovertemplate='<b>%{label}</b><br>Value: %{value}<br>Percentage: %{percentRoot:.1%}',\n",
        "))\n",
        "\n",
        "fig.update_traces(textinfo='label+percent root')\n",
        "fig.update_layout(\n",
        "    title='Minimum Cost Production by Crop',\n",
        "    sunburstcolorway=['#FF9999', '#66B3FF', '#99FF99', '#FFCC99', '#C2C2F0', '#FFB3E6', '#C2C2C2', '#B3E6CC', '#E6B3CC', '#E6E6CC'],\n",
        ")\n",
        "\n",
        "# Show the sunburst chart\n",
        "fig.show()\n"
      ],
      "metadata": {
        "id": "Pqp0TNHsoBYQ"
      },
      "execution_count": null,
      "outputs": []
    },
    {
      "cell_type": "code",
      "source": [
        "# Create the sunburst chart\n",
        "fig = go.Figure(go.Sunburst(\n",
        "    labels=crop_df.index,\n",
        "    parents=[''] * len(crop_df.index),\n",
        "    values=crop_df['max_Cost_Production'],\n",
        "    branchvalues='total',\n",
        "    hovertemplate='<b>%{label}</b><br>Value: %{value}<br>Percentage: %{percentRoot:.1%}',\n",
        "))\n",
        "\n",
        "fig.update_traces(textinfo='label+percent root')\n",
        "fig.update_layout(\n",
        "    title='Maximum Cost Production by Crop',\n",
        "    sunburstcolorway=['#FF9999', '#66B3FF', '#99FF99', '#FFCC99', '#C2C2F0', '#FFB3E6', '#C2C2C2', '#B3E6CC', '#E6B3CC', '#E6E6CC'],\n",
        ")\n",
        "\n",
        "# Show the sunburst chart\n",
        "fig.show()"
      ],
      "metadata": {
        "id": "ra7NS_P5oNYL"
      },
      "execution_count": null,
      "outputs": []
    },
    {
      "cell_type": "code",
      "source": [
        "# Find the crop with the minimum cost of production\n",
        "crop_min_cost = data1[data1['Cost_Production'] == data1['Cost_Production'].min()]['Crop']\n",
        "crop_min_cost"
      ],
      "metadata": {
        "id": "2mp0CjfToSw5"
      },
      "execution_count": null,
      "outputs": []
    },
    {
      "cell_type": "code",
      "source": [
        "# Find the crop with the minimum cost of production\n",
        "crop_min_cost = data1[data1['Crop'] == 'SUGARCANE'].groupby(['State', 'Crop'])['Cost_Production'].sum()\n",
        "\n",
        "plt.figure(figsize=(8, 6))\n",
        "sns.barplot(x=crop_min_cost.index.get_level_values('Crop'), y=crop_min_cost.values)\n",
        "plt.xlabel('Crop')\n",
        "plt.ylabel('Sum of Cost Production')\n",
        "plt.title('Sum of Cost Production by Crop and State')\n",
        "plt.xticks(rotation=90)\n",
        "plt.show()\n"
      ],
      "metadata": {
        "id": "v_xWTGYeoXq7"
      },
      "execution_count": null,
      "outputs": []
    },
    {
      "cell_type": "code",
      "source": [
        "# Find the crop with the maximum cost of production\n",
        "crop_max_cost = data1[data1['Cost_Production'] == data1['Cost_Production'].max()]['Crop']\n",
        "crop_max_cost"
      ],
      "metadata": {
        "id": "WtE4vitMoaVE"
      },
      "execution_count": null,
      "outputs": []
    },
    {
      "cell_type": "code",
      "source": [
        "# Find the crop with the minimum cost of production\n",
        "crop_max_cost = data1[data1['Crop'] == 'MOONG'].groupby(['State', 'Crop'])['Cost_Production'].sum()\n",
        "\n",
        "plt.figure(figsize=(8, 6))\n",
        "sns.barplot(x=crop_max_cost.index.get_level_values('Crop'), y=crop_min_cost.values)\n",
        "plt.xlabel('Crop')\n",
        "plt.ylabel('Sum of Cost Production')\n",
        "plt.title('Sum of Cost Production by Crop and State')\n",
        "plt.xticks(rotation=90)\n",
        "plt.show()\n"
      ],
      "metadata": {
        "id": "iKmiJOLsohjN"
      },
      "execution_count": null,
      "outputs": []
    },
    {
      "cell_type": "code",
      "source": [
        "import matplotlib.pyplot as plt\n",
        "# Create a bar chart to understand which states have the highest minimum yield\n",
        "data1.groupby('State')['Yield'].sum().sort_values(ascending=False).plot(kind='bar', title=\"The Sum of the Minimum Yield by state\", figsize=(8, 6), color='steelblue')\n",
        "plt.xlabel(\"States\")\n",
        "plt.ylabel(\"Sum of the Minimum Yield\")\n",
        "plt.show()\n"
      ],
      "metadata": {
        "id": "nUo4WoWbomI6"
      },
      "execution_count": null,
      "outputs": []
    },
    {
      "cell_type": "code",
      "source": [
        "# Calculate the sum of maximum yield for each state\n",
        "state_yield_sum = data1.groupby('State')['Yield'].sum()\n",
        "\n",
        "# Find the state with the maximum sum of maximum yield\n",
        "max_yield_state = state_yield_sum.idxmax()\n",
        "\n",
        "# Create a bar chart to visualize the sum of maximum yield for each state\n",
        "state_yield_sum.sort_values(ascending=False).plot(kind='bar', title=\"Sum of Maximum Yield by State\", figsize=(8, 6), color='steelblue')\n",
        "\n",
        "# Highlight the state with the maximum sum of minimum yield\n",
        "plt.axhline(y=state_yield_sum[max_yield_state], color='red', linestyle='--', label=f'Max Yield State: {max_yield_state}')\n",
        "\n",
        "plt.xlabel(\"States\")\n",
        "plt.ylabel(\"Sum of Maximum Yield\")\n",
        "plt.legend()\n",
        "plt.show()\n"
      ],
      "metadata": {
        "id": "jPYsVoyaoppk"
      },
      "execution_count": null,
      "outputs": []
    },
    {
      "cell_type": "code",
      "source": [
        "# Count the number of unique crop types\n",
        "num_crops = data1['Crop'].nunique()\n",
        "\n",
        "# Print the result\n",
        "print(\"Number of unique crop types:\", num_crops)\n"
      ],
      "metadata": {
        "id": "P277WrzyoqhG"
      },
      "execution_count": null,
      "outputs": []
    },
    {
      "cell_type": "code",
      "source": [
        "# Get the list of unique crop types\n",
        "crop_list = data1['Crop'].unique()\n",
        "\n",
        "# Print the crop list\n",
        "print(\"List of crop types:\")\n",
        "for crop in crop_list:\n",
        "    print(crop)\n"
      ],
      "metadata": {
        "id": "ma1x3ab5ou_Z"
      },
      "execution_count": null,
      "outputs": []
    },
    {
      "cell_type": "code",
      "source": [
        "# List of crop types to plot\n",
        "crop_types = ['ARHAR', 'COTTON', 'GRAM', 'GROUNDNUT', 'MAIZE', 'MOONG', 'PADDY', 'RAPESEED AND MUSTARD', 'SUGARCANE', 'WHEAT']\n",
        "\n",
        "# Filter data for the selected crop types\n",
        "filtered_data = data1[data1['Crop'].isin(crop_types)]\n",
        "\n",
        "# Create a bar chart to find the yield generated from the selected crops\n",
        "filtered_data.groupby('Crop')['Yield'].sum().sort_values(ascending=False).plot(kind='bar', title='Yield Generated from Crops', figsize=(8, 6), color='steelblue')\n",
        "plt.xlabel(\"Crop\")\n",
        "plt.ylabel(\"Sum of Yield\")\n",
        "plt.show()\n"
      ],
      "metadata": {
        "id": "qpczShbIoxid"
      },
      "execution_count": null,
      "outputs": []
    },
    {
      "cell_type": "code",
      "source": [
        "data3 = pd.read_csv('/content/datafile (2).csv')\n",
        "data3.head().style.set_properties(**{'background-color':'red','color':'white','border-color':'#8b8c8c'})"
      ],
      "metadata": {
        "id": "8t_7nTdMpEhl"
      },
      "execution_count": null,
      "outputs": []
    },
    {
      "cell_type": "code",
      "source": [
        "# Print the column names\n",
        "print(data3.columns)"
      ],
      "metadata": {
        "id": "qcON1LXIpHlo"
      },
      "execution_count": null,
      "outputs": []
    },
    {
      "cell_type": "code",
      "source": [
        "# Define the crops and corresponding colors\n",
        "crops = ['Total Foodgrains', 'Rice', 'Wheat', 'Jowar', 'Bajra']\n",
        "colors = ['steelblue', 'royalblue', 'cornflowerblue', 'lightskyblue', 'lightblue']\n",
        "\n",
        "# Create the traces for each crop\n",
        "traces = []\n",
        "for i, crop in enumerate(crops):\n",
        "    trace = go.Bar(\n",
        "        x=data3.columns[1:],\n",
        "        y=data3.loc[data3['Crop             '] == crop, data3.columns[1:]].values.flatten(),\n",
        "        name=crop,\n",
        "        marker=dict(color=colors[i])\n",
        "    )\n",
        "    traces.append(trace)\n",
        "\n",
        "# Create the layout\n",
        "layout = go.Layout(\n",
        "    title='Crop Production and Yield',\n",
        "    xaxis=dict(title='Year'),\n",
        "    yaxis=dict(title='Quantity'),\n",
        "    barmode='group'\n",
        ")\n",
        "\n",
        "# Create the figure\n",
        "fig = go.Figure(data=traces, layout=layout)\n",
        "\n",
        "# Show the figure\n",
        "fig.show()"
      ],
      "metadata": {
        "id": "-v7xmLEbpQu3"
      },
      "execution_count": null,
      "outputs": []
    },
    {
      "cell_type": "code",
      "source": [
        "%%capture\n",
        "!pip install graphviz"
      ],
      "metadata": {
        "id": "8NIC6ZL0pbp0"
      },
      "execution_count": null,
      "outputs": []
    },
    {
      "cell_type": "code",
      "source": [
        "import pandas as pd\n",
        "import plotly.graph_objects as go\n",
        "from sklearn.model_selection import train_test_split\n",
        "from sklearn.tree import DecisionTreeRegressor\n",
        "from sklearn.linear_model import LinearRegression\n",
        "from xgboost import XGBRegressor\n",
        "from sklearn.ensemble import RandomForestRegressor\n",
        "from sklearn.metrics import mean_squared_error, mean_absolute_error\n",
        "from sklearn.tree import export_graphviz\n",
        "import graphviz\n"
      ],
      "metadata": {
        "id": "_IUxArklpgYV"
      },
      "execution_count": null,
      "outputs": []
    },
    {
      "cell_type": "code",
      "source": [
        "# Split the data into input features (X) and target variable (y)\n",
        "X = data1[['Cost_A2_FL', 'Cost_C2', 'Cost_Production']]\n",
        "y = data1['Yield']\n"
      ],
      "metadata": {
        "id": "oLX1vLefpju2"
      },
      "execution_count": null,
      "outputs": []
    },
    {
      "cell_type": "code",
      "source": [
        "# Split the data into training and testing sets\n",
        "X_train, X_test, y_train, y_test = train_test_split(X, y, test_size=0.2, random_state=42)\n"
      ],
      "metadata": {
        "id": "BftqUUQspmPX"
      },
      "execution_count": null,
      "outputs": []
    },
    {
      "cell_type": "code",
      "source": [
        "# Train the models\n",
        "models = {\n",
        "    'Decision Tree': DecisionTreeRegressor(),\n",
        "    'Linear Regression': LinearRegression(),\n",
        "    'XGBoost': XGBRegressor(),\n",
        "    'Random Forest': RandomForestRegressor()\n",
        "}\n",
        "\n",
        "predictions = {}\n",
        "for model_name, model in models.items():\n",
        "    model.fit(X_train, y_train)\n",
        "    predictions[model_name] = model.predict(X_test)\n",
        "\n",
        "# Evaluate the models\n",
        "evaluation = {}\n",
        "for model_name, y_pred in predictions.items():\n",
        "    mse = mean_squared_error(y_test, y_pred)\n",
        "    mae = mean_absolute_error(y_test, y_pred)\n",
        "    evaluation[model_name] = {'MSE': mse, 'MAE': mae}\n",
        "\n",
        "# Visualize the decision tree model using Graphviz\n",
        "dot_data = export_graphviz(models['Decision Tree'], out_file=None,\n",
        "                           feature_names=X.columns, filled=True, rounded=True,\n",
        "                           special_characters=True)\n",
        "graph = graphviz.Source(dot_data)\n",
        "\n",
        "# Display the Graphviz visualization\n",
        "graph.render(filename='decision_tree', format='png', cleanup=True)\n",
        "\n",
        "# Visualize the results\n",
        "fig = go.Figure()\n",
        "for model_name, y_pred in predictions.items():\n",
        "    fig.add_trace(go.Scatter(\n",
        "        x=y_test.index,\n",
        "        y=y_pred,\n",
        "        mode='markers',\n",
        "        name=model_name\n",
        "    ))\n",
        "fig.add_trace(go.Scatter(\n",
        "    x=y_test.index,\n",
        "    y=y_test,\n",
        "    mode='markers',\n",
        "    name='Actual'\n",
        "))\n",
        "fig.update_layout(\n",
        "    title='Crop Yield Prediction',\n",
        "    xaxis_title='Data Point',\n",
        "    yaxis_title='Yield',\n",
        ")\n",
        "fig.show()\n",
        "\n",
        "# Display the evaluation results\n",
        "print('Evaluation Results:')\n",
        "for model_name, metrics in evaluation.items():\n",
        "    print(f'{model_name}:')\n",
        "    print(f'MSE: {metrics[\"MSE\"]}')\n",
        "    print(f'MAE: {metrics[\"MAE\"]}')\n",
        "    print('---')"
      ],
      "metadata": {
        "id": "F6a4Ix_Dpw0A"
      },
      "execution_count": null,
      "outputs": []
    },
    {
      "cell_type": "code",
      "source": [
        "import graphviz\n",
        "from IPython.display import Image, display\n",
        "\n",
        "# Create a Graphviz object from the dot file\n",
        "graph = graphviz.Source(dot_data)\n",
        "\n",
        "# Set the format and filename to save the image\n",
        "image_format = 'png'\n",
        "image_filename = 'graph'\n",
        "\n",
        "# Save the Graphviz visualization as an image\n",
        "graph.format = image_format\n",
        "graph.render(filename=image_filename, format=image_format, cleanup=True)\n",
        "\n",
        "# Display the image with a specific size\n",
        "image_path = f'{image_filename}.{image_format}'\n",
        "display(Image(filename=image_path, width=1000, height=800))\n"
      ],
      "metadata": {
        "id": "7YaYRP2Rp5gP"
      },
      "execution_count": null,
      "outputs": []
    }
  ]
}